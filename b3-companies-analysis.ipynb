{
 "cells": [
  {
   "cell_type": "code",
   "execution_count": 7,
   "metadata": {},
   "outputs": [],
   "source": [
    "import pandas as pd\n",
    "import matplotlib.pyplot as plt\n",
    "import seaborn as sns"
   ]
  },
  {
   "cell_type": "code",
   "execution_count": 2,
   "metadata": {},
   "outputs": [],
   "source": [
    "from createData import createData\n",
    "data = createData()"
   ]
  },
  {
   "cell_type": "code",
   "execution_count": 3,
   "metadata": {
    "scrolled": true
   },
   "outputs": [
    {
     "data": {
      "text/html": [
       "<div>\n",
       "<style scoped>\n",
       "    .dataframe tbody tr th:only-of-type {\n",
       "        vertical-align: middle;\n",
       "    }\n",
       "\n",
       "    .dataframe tbody tr th {\n",
       "        vertical-align: top;\n",
       "    }\n",
       "\n",
       "    .dataframe thead th {\n",
       "        text-align: right;\n",
       "    }\n",
       "</style>\n",
       "<table border=\"1\" class=\"dataframe\">\n",
       "  <thead>\n",
       "    <tr style=\"text-align: right;\">\n",
       "      <th></th>\n",
       "      <th>Ativo</th>\n",
       "      <th>Ativo Circulante</th>\n",
       "      <th>Cart. de Crédito</th>\n",
       "      <th>Depósitos</th>\n",
       "      <th>Disponibilidades</th>\n",
       "      <th>Dív. Bruta</th>\n",
       "      <th>Dív. Líquida</th>\n",
       "      <th>Patrim. Líq</th>\n",
       "      <th>ticker</th>\n",
       "      <th>segmento</th>\n",
       "      <th>setor</th>\n",
       "      <th>subsetor</th>\n",
       "    </tr>\n",
       "  </thead>\n",
       "  <tbody>\n",
       "    <tr>\n",
       "      <th>0</th>\n",
       "      <td>2.469870e+09</td>\n",
       "      <td>4.653640e+08</td>\n",
       "      <td>NaN</td>\n",
       "      <td>NaN</td>\n",
       "      <td>9.742800e+07</td>\n",
       "      <td>6.423080e+08</td>\n",
       "      <td>5.448800e+08</td>\n",
       "      <td>1.287910e+09</td>\n",
       "      <td>AALR3</td>\n",
       "      <td>Análises e Diagnósticos</td>\n",
       "      <td>Saúde</td>\n",
       "      <td>Análises e Diagnósticos</td>\n",
       "    </tr>\n",
       "    <tr>\n",
       "      <th>1</th>\n",
       "      <td>3.625330e+10</td>\n",
       "      <td>NaN</td>\n",
       "      <td>1.328050e+10</td>\n",
       "      <td>5.693870e+09</td>\n",
       "      <td>NaN</td>\n",
       "      <td>NaN</td>\n",
       "      <td>NaN</td>\n",
       "      <td>4.040730e+09</td>\n",
       "      <td>ABCB4</td>\n",
       "      <td>Bancos</td>\n",
       "      <td>Financeiro</td>\n",
       "      <td>Intermediários Financeiros</td>\n",
       "    </tr>\n",
       "    <tr>\n",
       "      <th>2</th>\n",
       "      <td>1.017430e+11</td>\n",
       "      <td>2.762110e+10</td>\n",
       "      <td>NaN</td>\n",
       "      <td>NaN</td>\n",
       "      <td>1.191520e+10</td>\n",
       "      <td>3.062800e+09</td>\n",
       "      <td>-8.852420e+09</td>\n",
       "      <td>6.127800e+10</td>\n",
       "      <td>ABEV3</td>\n",
       "      <td>Cervejas e Refrigerantes</td>\n",
       "      <td>Consumo não Cíclico</td>\n",
       "      <td>Bebidas</td>\n",
       "    </tr>\n",
       "    <tr>\n",
       "      <th>3</th>\n",
       "      <td>2.420000e+05</td>\n",
       "      <td>2.300000e+04</td>\n",
       "      <td>NaN</td>\n",
       "      <td>NaN</td>\n",
       "      <td>0.000000e+00</td>\n",
       "      <td>0.000000e+00</td>\n",
       "      <td>0.000000e+00</td>\n",
       "      <td>-1.977600e+07</td>\n",
       "      <td>ADHM3</td>\n",
       "      <td>Análises e Diagnósticos</td>\n",
       "      <td>Saúde</td>\n",
       "      <td>Análises e Diagnósticos</td>\n",
       "    </tr>\n",
       "    <tr>\n",
       "      <th>4</th>\n",
       "      <td>2.256550e+08</td>\n",
       "      <td>7.535600e+07</td>\n",
       "      <td>NaN</td>\n",
       "      <td>NaN</td>\n",
       "      <td>5.174600e+07</td>\n",
       "      <td>1.248000e+06</td>\n",
       "      <td>-5.049800e+07</td>\n",
       "      <td>2.143460e+08</td>\n",
       "      <td>AFLT3</td>\n",
       "      <td>Energia Elétrica</td>\n",
       "      <td>Utilidade Pública</td>\n",
       "      <td>Energia Elétrica</td>\n",
       "    </tr>\n",
       "  </tbody>\n",
       "</table>\n",
       "</div>"
      ],
      "text/plain": [
       "          Ativo  Ativo Circulante  Cart. de Crédito     Depósitos  \\\n",
       "0  2.469870e+09      4.653640e+08               NaN           NaN   \n",
       "1  3.625330e+10               NaN      1.328050e+10  5.693870e+09   \n",
       "2  1.017430e+11      2.762110e+10               NaN           NaN   \n",
       "3  2.420000e+05      2.300000e+04               NaN           NaN   \n",
       "4  2.256550e+08      7.535600e+07               NaN           NaN   \n",
       "\n",
       "   Disponibilidades    Dív. Bruta  Dív. Líquida   Patrim. Líq ticker  \\\n",
       "0      9.742800e+07  6.423080e+08  5.448800e+08  1.287910e+09  AALR3   \n",
       "1               NaN           NaN           NaN  4.040730e+09  ABCB4   \n",
       "2      1.191520e+10  3.062800e+09 -8.852420e+09  6.127800e+10  ABEV3   \n",
       "3      0.000000e+00  0.000000e+00  0.000000e+00 -1.977600e+07  ADHM3   \n",
       "4      5.174600e+07  1.248000e+06 -5.049800e+07  2.143460e+08  AFLT3   \n",
       "\n",
       "                   segmento                setor                    subsetor  \n",
       "0   Análises e Diagnósticos                Saúde     Análises e Diagnósticos  \n",
       "1                    Bancos           Financeiro  Intermediários Financeiros  \n",
       "2  Cervejas e Refrigerantes  Consumo não Cíclico                     Bebidas  \n",
       "3   Análises e Diagnósticos                Saúde     Análises e Diagnósticos  \n",
       "4          Energia Elétrica    Utilidade Pública            Energia Elétrica  "
      ]
     },
     "execution_count": 3,
     "metadata": {},
     "output_type": "execute_result"
    }
   ],
   "source": [
    "data.head()"
   ]
  },
  {
   "cell_type": "code",
   "execution_count": 19,
   "metadata": {},
   "outputs": [],
   "source": [
    "agg_data = data. \\\n",
    "    groupby('setor').agg({\n",
    "        'Dív. Bruta': 'sum'\n",
    "    })"
   ]
  },
  {
   "cell_type": "code",
   "execution_count": 22,
   "metadata": {},
   "outputs": [
    {
     "data": {
      "text/html": [
       "<div>\n",
       "<style scoped>\n",
       "    .dataframe tbody tr th:only-of-type {\n",
       "        vertical-align: middle;\n",
       "    }\n",
       "\n",
       "    .dataframe tbody tr th {\n",
       "        vertical-align: top;\n",
       "    }\n",
       "\n",
       "    .dataframe thead th {\n",
       "        text-align: right;\n",
       "    }\n",
       "</style>\n",
       "<table border=\"1\" class=\"dataframe\">\n",
       "  <thead>\n",
       "    <tr style=\"text-align: right;\">\n",
       "      <th></th>\n",
       "      <th>Dív. Bruta</th>\n",
       "    </tr>\n",
       "    <tr>\n",
       "      <th>setor</th>\n",
       "      <th></th>\n",
       "    </tr>\n",
       "  </thead>\n",
       "  <tbody>\n",
       "    <tr>\n",
       "      <th>Outros</th>\n",
       "      <td>9.228000e+06</td>\n",
       "    </tr>\n",
       "    <tr>\n",
       "      <th>Tecnologia da Informação</th>\n",
       "      <td>1.678686e+09</td>\n",
       "    </tr>\n",
       "    <tr>\n",
       "      <th>Saúde</th>\n",
       "      <td>1.460704e+10</td>\n",
       "    </tr>\n",
       "    <tr>\n",
       "      <th>Financeiro</th>\n",
       "      <td>4.780613e+10</td>\n",
       "    </tr>\n",
       "    <tr>\n",
       "      <th>Comunicações</th>\n",
       "      <td>6.603913e+10</td>\n",
       "    </tr>\n",
       "    <tr>\n",
       "      <th>Bens Industriais</th>\n",
       "      <td>1.045412e+11</td>\n",
       "    </tr>\n",
       "    <tr>\n",
       "      <th>Consumo Cíclico</th>\n",
       "      <td>1.260375e+11</td>\n",
       "    </tr>\n",
       "    <tr>\n",
       "      <th>Consumo não Cíclico</th>\n",
       "      <td>1.638928e+11</td>\n",
       "    </tr>\n",
       "    <tr>\n",
       "      <th>Materiais Básicos</th>\n",
       "      <td>4.031496e+11</td>\n",
       "    </tr>\n",
       "    <tr>\n",
       "      <th>Utilidade Pública</th>\n",
       "      <td>5.819659e+11</td>\n",
       "    </tr>\n",
       "    <tr>\n",
       "      <th>Petróleo, Gás e Biocombustíveis</th>\n",
       "      <td>7.447974e+11</td>\n",
       "    </tr>\n",
       "  </tbody>\n",
       "</table>\n",
       "</div>"
      ],
      "text/plain": [
       "                                   Dív. Bruta\n",
       "setor                                        \n",
       "Outros                           9.228000e+06\n",
       "Tecnologia da Informação         1.678686e+09\n",
       "Saúde                            1.460704e+10\n",
       "Financeiro                       4.780613e+10\n",
       "Comunicações                     6.603913e+10\n",
       "Bens Industriais                 1.045412e+11\n",
       "Consumo Cíclico                  1.260375e+11\n",
       "Consumo não Cíclico              1.638928e+11\n",
       "Materiais Básicos                4.031496e+11\n",
       "Utilidade Pública                5.819659e+11\n",
       "Petróleo, Gás e Biocombustíveis  7.447974e+11"
      ]
     },
     "execution_count": 22,
     "metadata": {},
     "output_type": "execute_result"
    }
   ],
   "source": [
    "agg_data.sort_values(by=['Dív. Bruta'])"
   ]
  },
  {
   "cell_type": "code",
   "execution_count": null,
   "metadata": {},
   "outputs": [],
   "source": []
  },
  {
   "cell_type": "code",
   "execution_count": 24,
   "metadata": {},
   "outputs": [
    {
     "data": {
      "text/plain": [
       "<matplotlib.axes._subplots.AxesSubplot at 0x7f840e5ab358>"
      ]
     },
     "execution_count": 24,
     "metadata": {},
     "output_type": "execute_result"
    },
    {
     "data": {
      "image/png": "[encoded data removed]",
      "text/plain": [
       "<Figure size 1152x864 with 1 Axes>"
      ]
     },
     "metadata": {},
     "output_type": "display_data"
    }
   ],
   "source": [
    "fig_dims = (16, 12)\n",
    "fig, ax = plt.subplots(figsize=fig_dims)\n",
    "\n",
    "sns.barplot(x=\"setor\", y=\"Dív. Bruta\", ax=ax, data=data)"
   ]
  }
 ],
 "metadata": {
  "kernelspec": {
   "display_name": ".quantenv",
   "language": "python",
   "name": ".quantenv"
  },
  "language_info": {
   "codemirror_mode": {
    "name": "ipython",
    "version": 3
   },
   "file_extension": ".py",
   "mimetype": "text/x-python",
   "name": "python",
   "nbconvert_exporter": "python",
   "pygments_lexer": "ipython3",
   "version": "3.6.5"
  }
 },
 "nbformat": 4,
 "nbformat_minor": 2
}
